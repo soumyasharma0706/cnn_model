{
 "cells": [
  {
   "cell_type": "code",
   "execution_count": 25,
   "metadata": {},
   "outputs": [],
   "source": [
    "# importing the libraries\n",
    "import os\n",
    "from tensorflow.keras.models import Sequential\n",
    "import numpy as np\n",
    "import cv2\n",
    "from sklearn.model_selection import train_test_split\n",
    "import matplotlib.pyplot as plt\n",
    "from tensorflow.keras.layers import Dense\n",
    "from tensorflow.keras.utils import to_categorical\n",
    "from tensorflow.keras.datasets import mnist\n",
    "from keras.models import Sequential\n",
    "from keras.layers import Dense , Conv2D, Flatten, MaxPooling2D"
   ]
  },
  {
   "cell_type": "code",
   "execution_count": 26,
   "metadata": {},
   "outputs": [],
   "source": [
    "def data_loader(path_train, path_test):\n",
    "  train_list=os.listdir(path_train)\n",
    "  num_classes=len(train_list)\n",
    "  x_train=[]\n",
    "  y_train=[]\n",
    "  x_test=[]\n",
    "  y_test=[]\n",
    "  for label, folder in enumerate(train_list):\n",
    "    path1 = path_train+'/'+str(folder)\n",
    "    images = os.listdir(path1)\n",
    "    for file in images:\n",
    "      path2 = path1+'/'+str(file)\n",
    "\n",
    "      # Read the image form the directory\n",
    "      img = cv2.imread(path2)\n",
    "      # Append image to the train data list\n",
    "      x_train.append(img)\n",
    "\n",
    "      # Append class-label corresponding to the image\n",
    "      y_train.append(label)\n",
    "\n",
    "    # Loading testing data\n",
    "    path1 = path_test+'/'+str(folder)\n",
    "    images = os.listdir(path1)\n",
    "    for file in images:\n",
    "      path2=path1+'/'+str(file)\n",
    "\n",
    "      # Read the image form the directory\n",
    "      img = cv2.imread(path2)\n",
    "      # Append image to the test data list\n",
    "      x_test.append(img)\n",
    "\n",
    "      # Append class-label corresponding to the image\n",
    "      y_test.append(label)\n",
    "  # Convert lists into numpy arrays\n",
    "  x_train=np.asarray(x_train)\n",
    "  y_train=np.asarray(y_train)\n",
    "  x_test=np.asarray(x_test)\n",
    "  y_test=np.asarray(y_test)\n",
    "  return x_train,y_train,x_test,y_test\n"
   ]
  },
  {
   "cell_type": "code",
   "execution_count": 27,
   "metadata": {},
   "outputs": [],
   "source": [
    "\n",
    "path_train = 'Data/train'\n",
    "path_test = 'Data/test'\n",
    "x_train,y_train,x_test,y_test = data_loader(path_train=path_train,path_test=path_test)"
   ]
  },
  {
   "cell_type": "code",
   "execution_count": 28,
   "metadata": {},
   "outputs": [],
   "source": [
    "x_train = x_train.astype('float32')\n",
    "x_test = x_test.astype('float32')\n",
    "\n",
    "y_train = to_categorical(y_train)\n",
    "y_test = to_categorical(y_test)\n",
    "\n",
    "x_train_split,x_valid_split,y_train_split,y_valid_split =  train_test_split(\n",
    "    x_train, y_train, test_size=0.10, random_state=42)"
   ]
  },
  {
   "cell_type": "code",
   "execution_count": 29,
   "metadata": {},
   "outputs": [
    {
     "name": "stdout",
     "output_type": "stream",
     "text": [
      "(1350, 32, 32, 3)\n",
      "(150, 32, 32, 3)\n",
      "(1350, 3)\n",
      "(150, 3)\n"
     ]
    }
   ],
   "source": [
    "print(x_train_split.shape)\n",
    "print(x_valid_split.shape)\n",
    "print(y_train_split.shape)\n",
    "print(y_valid_split.shape)"
   ]
  },
  {
   "cell_type": "code",
   "execution_count": 30,
   "metadata": {},
   "outputs": [
    {
     "name": "stdout",
     "output_type": "stream",
     "text": [
      "(1350, 32, 32, 3)\n",
      "(150, 32, 32, 3)\n"
     ]
    }
   ],
   "source": [
    "# normalizing \n",
    "x_valid_split = x_valid_split/255\n",
    "x_train_split = x_train_split/255\n",
    "print(np.array(x_train_split).shape)\n",
    "print(np.array(x_valid_split).shape)\n",
    "sh = np.array(x_train_split).shape"
   ]
  },
  {
   "cell_type": "code",
   "execution_count": 31,
   "metadata": {},
   "outputs": [],
   "source": [
    "model = Sequential()\n",
    "model.add(Conv2D(64, (3,3), strides = (1,1), padding = 'same' , input_shape = (sh[1],sh[2],sh[3]), activation='relu'))\n",
    "model.add(Conv2D(64, (3, 3), strides=(1, 1), padding = 'same', activation = 'relu'))    \n",
    "model.add(MaxPooling2D((2, 2), strides=(2, 2), padding = 'valid'))\n",
    "model.add(Conv2D(128, (3, 3), strides=(1, 1), padding = 'same', activation = 'relu'))    \n",
    "model.add(Conv2D(128, (3, 3), strides=(1, 1), padding = 'same', activation = 'relu'))   \n",
    "model.add(MaxPooling2D((2, 2), strides=(2, 2), padding = 'valid'))\n",
    "model.add(Flatten())\n",
    "model.add(Dense(512, activation='relu'))\n",
    "model.add(Dense(100, activation='relu'))\n",
    "model.add(Dense(3, activation='softmax'))\n"
   ]
  },
  {
   "cell_type": "code",
   "execution_count": 32,
   "metadata": {},
   "outputs": [
    {
     "name": "stdout",
     "output_type": "stream",
     "text": [
      "Model: \"sequential_2\"\n",
      "_________________________________________________________________\n",
      " Layer (type)                Output Shape              Param #   \n",
      "=================================================================\n",
      " conv2d_8 (Conv2D)           (None, 32, 32, 64)        1792      \n",
      "                                                                 \n",
      " conv2d_9 (Conv2D)           (None, 32, 32, 64)        36928     \n",
      "                                                                 \n",
      " max_pooling2d_4 (MaxPoolin  (None, 16, 16, 64)        0         \n",
      " g2D)                                                            \n",
      "                                                                 \n",
      " conv2d_10 (Conv2D)          (None, 16, 16, 128)       73856     \n",
      "                                                                 \n",
      " conv2d_11 (Conv2D)          (None, 16, 16, 128)       147584    \n",
      "                                                                 \n",
      " max_pooling2d_5 (MaxPoolin  (None, 8, 8, 128)         0         \n",
      " g2D)                                                            \n",
      "                                                                 \n",
      " flatten_2 (Flatten)         (None, 8192)              0         \n",
      "                                                                 \n",
      " dense_6 (Dense)             (None, 512)               4194816   \n",
      "                                                                 \n",
      " dense_7 (Dense)             (None, 100)               51300     \n",
      "                                                                 \n",
      " dense_8 (Dense)             (None, 3)                 303       \n",
      "                                                                 \n",
      "=================================================================\n",
      "Total params: 4506579 (17.19 MB)\n",
      "Trainable params: 4506579 (17.19 MB)\n",
      "Non-trainable params: 0 (0.00 Byte)\n",
      "_________________________________________________________________\n"
     ]
    }
   ],
   "source": [
    "model.summary()"
   ]
  },
  {
   "cell_type": "code",
   "execution_count": 33,
   "metadata": {},
   "outputs": [
    {
     "name": "stdout",
     "output_type": "stream",
     "text": [
      "Epoch 1/50\n",
      "7/7 [==============================] - 16s 2s/step - loss: 1.1010 - acc: 0.3415 - val_loss: 1.0473 - val_acc: 0.3533\n",
      "Epoch 2/50\n",
      "7/7 [==============================] - 13s 2s/step - loss: 0.9466 - acc: 0.5207 - val_loss: 0.8758 - val_acc: 0.6533\n",
      "Epoch 3/50\n",
      "7/7 [==============================] - 10s 1s/step - loss: 0.8056 - acc: 0.6741 - val_loss: 0.9355 - val_acc: 0.6400\n",
      "Epoch 4/50\n",
      "7/7 [==============================] - 12s 2s/step - loss: 0.7124 - acc: 0.7156 - val_loss: 0.7444 - val_acc: 0.6867\n",
      "Epoch 5/50\n",
      "7/7 [==============================] - 12s 2s/step - loss: 0.6902 - acc: 0.7119 - val_loss: 0.6969 - val_acc: 0.7000\n",
      "Epoch 6/50\n",
      "7/7 [==============================] - 11s 2s/step - loss: 0.6371 - acc: 0.7356 - val_loss: 0.6677 - val_acc: 0.7200\n",
      "Epoch 7/50\n",
      "7/7 [==============================] - 11s 2s/step - loss: 0.5470 - acc: 0.7733 - val_loss: 0.6222 - val_acc: 0.7200\n",
      "Epoch 8/50\n",
      "7/7 [==============================] - 11s 2s/step - loss: 0.4796 - acc: 0.8081 - val_loss: 0.5910 - val_acc: 0.7533\n",
      "Epoch 9/50\n",
      "7/7 [==============================] - 11s 2s/step - loss: 0.4491 - acc: 0.8215 - val_loss: 0.5410 - val_acc: 0.7667\n",
      "Epoch 10/50\n",
      "7/7 [==============================] - 11s 2s/step - loss: 0.4380 - acc: 0.8133 - val_loss: 0.5896 - val_acc: 0.7333\n",
      "Epoch 11/50\n",
      "7/7 [==============================] - 12s 2s/step - loss: 0.4043 - acc: 0.8348 - val_loss: 0.5241 - val_acc: 0.7533\n",
      "Epoch 12/50\n",
      "7/7 [==============================] - 12s 2s/step - loss: 0.3632 - acc: 0.8570 - val_loss: 0.6587 - val_acc: 0.7200\n",
      "Epoch 13/50\n",
      "7/7 [==============================] - 12s 2s/step - loss: 0.3335 - acc: 0.8667 - val_loss: 0.5084 - val_acc: 0.7600\n",
      "Epoch 14/50\n",
      "7/7 [==============================] - 11s 1s/step - loss: 0.2849 - acc: 0.8889 - val_loss: 0.5558 - val_acc: 0.7733\n",
      "Epoch 15/50\n",
      "7/7 [==============================] - 10s 1s/step - loss: 0.2307 - acc: 0.9119 - val_loss: 0.5738 - val_acc: 0.7667\n",
      "Epoch 16/50\n",
      "7/7 [==============================] - 13s 2s/step - loss: 0.2224 - acc: 0.9081 - val_loss: 0.6930 - val_acc: 0.7533\n",
      "Epoch 17/50\n",
      "7/7 [==============================] - 9s 1s/step - loss: 0.2376 - acc: 0.9030 - val_loss: 0.5795 - val_acc: 0.7800\n",
      "Epoch 18/50\n",
      "7/7 [==============================] - 9s 1s/step - loss: 0.1873 - acc: 0.9289 - val_loss: 0.5988 - val_acc: 0.7467\n",
      "Epoch 19/50\n",
      "7/7 [==============================] - 8s 1s/step - loss: 0.1507 - acc: 0.9400 - val_loss: 0.6674 - val_acc: 0.7867\n",
      "Epoch 20/50\n",
      "7/7 [==============================] - 9s 1s/step - loss: 0.1313 - acc: 0.9459 - val_loss: 0.6553 - val_acc: 0.7800\n",
      "Epoch 21/50\n",
      "7/7 [==============================] - 10s 1s/step - loss: 0.1184 - acc: 0.9593 - val_loss: 0.6987 - val_acc: 0.7533\n",
      "Epoch 22/50\n",
      "7/7 [==============================] - 11s 2s/step - loss: 0.1195 - acc: 0.9519 - val_loss: 0.7035 - val_acc: 0.7733\n",
      "Epoch 23/50\n",
      "7/7 [==============================] - 10s 1s/step - loss: 0.0714 - acc: 0.9793 - val_loss: 0.7116 - val_acc: 0.7933\n",
      "Epoch 24/50\n",
      "7/7 [==============================] - 8s 1s/step - loss: 0.0559 - acc: 0.9815 - val_loss: 0.7045 - val_acc: 0.7733\n",
      "Epoch 25/50\n",
      "7/7 [==============================] - 7s 1s/step - loss: 0.0533 - acc: 0.9837 - val_loss: 0.8689 - val_acc: 0.8067\n",
      "Epoch 26/50\n",
      "7/7 [==============================] - 7s 1s/step - loss: 0.0577 - acc: 0.9763 - val_loss: 0.7370 - val_acc: 0.7933\n",
      "Epoch 27/50\n",
      "7/7 [==============================] - 7s 1s/step - loss: 0.0443 - acc: 0.9881 - val_loss: 0.7579 - val_acc: 0.7733\n",
      "Epoch 28/50\n",
      "7/7 [==============================] - 7s 1s/step - loss: 0.0278 - acc: 0.9919 - val_loss: 0.8736 - val_acc: 0.7733\n",
      "Epoch 29/50\n",
      "7/7 [==============================] - 7s 1s/step - loss: 0.0135 - acc: 0.9985 - val_loss: 0.9336 - val_acc: 0.8067\n",
      "Epoch 30/50\n",
      "7/7 [==============================] - 7s 1s/step - loss: 0.0075 - acc: 1.0000 - val_loss: 0.9332 - val_acc: 0.7867\n",
      "Epoch 31/50\n",
      "7/7 [==============================] - 7s 1s/step - loss: 0.0044 - acc: 1.0000 - val_loss: 1.0531 - val_acc: 0.8067\n",
      "Epoch 32/50\n",
      "7/7 [==============================] - 7s 1s/step - loss: 0.0032 - acc: 0.9993 - val_loss: 1.0878 - val_acc: 0.8133\n",
      "Epoch 33/50\n",
      "7/7 [==============================] - 7s 1s/step - loss: 0.0020 - acc: 1.0000 - val_loss: 1.0463 - val_acc: 0.8067\n",
      "Epoch 34/50\n",
      "7/7 [==============================] - 7s 1s/step - loss: 0.0016 - acc: 1.0000 - val_loss: 1.1245 - val_acc: 0.8000\n",
      "Epoch 35/50\n",
      "7/7 [==============================] - 8s 1s/step - loss: 0.0012 - acc: 1.0000 - val_loss: 1.1234 - val_acc: 0.8067\n",
      "Epoch 36/50\n",
      "7/7 [==============================] - 8s 1s/step - loss: 8.0352e-04 - acc: 1.0000 - val_loss: 1.1519 - val_acc: 0.8000\n",
      "Epoch 37/50\n",
      "7/7 [==============================] - 12s 2s/step - loss: 6.7949e-04 - acc: 1.0000 - val_loss: 1.1611 - val_acc: 0.8000\n",
      "Epoch 38/50\n",
      "7/7 [==============================] - 9s 1s/step - loss: 5.4797e-04 - acc: 1.0000 - val_loss: 1.1768 - val_acc: 0.8067\n",
      "Epoch 39/50\n",
      "7/7 [==============================] - 7s 1s/step - loss: 4.0846e-04 - acc: 1.0000 - val_loss: 1.2167 - val_acc: 0.7933\n",
      "Epoch 40/50\n",
      "7/7 [==============================] - 7s 1s/step - loss: 3.6743e-04 - acc: 1.0000 - val_loss: 1.2067 - val_acc: 0.8000\n",
      "Epoch 41/50\n",
      "7/7 [==============================] - 7s 1s/step - loss: 3.3518e-04 - acc: 1.0000 - val_loss: 1.2121 - val_acc: 0.8067\n",
      "Epoch 42/50\n",
      "7/7 [==============================] - 7s 1s/step - loss: 2.9801e-04 - acc: 1.0000 - val_loss: 1.2363 - val_acc: 0.7933\n",
      "Epoch 43/50\n",
      "7/7 [==============================] - 7s 1s/step - loss: 2.7934e-04 - acc: 1.0000 - val_loss: 1.2293 - val_acc: 0.8067\n",
      "Epoch 44/50\n",
      "7/7 [==============================] - 7s 1s/step - loss: 2.5441e-04 - acc: 1.0000 - val_loss: 1.2334 - val_acc: 0.8067\n",
      "Epoch 45/50\n",
      "7/7 [==============================] - 7s 1s/step - loss: 2.3306e-04 - acc: 1.0000 - val_loss: 1.2501 - val_acc: 0.8000\n",
      "Epoch 46/50\n",
      "7/7 [==============================] - 7s 1s/step - loss: 2.2005e-04 - acc: 1.0000 - val_loss: 1.2612 - val_acc: 0.8000\n",
      "Epoch 47/50\n",
      "7/7 [==============================] - 7s 1s/step - loss: 2.0845e-04 - acc: 1.0000 - val_loss: 1.2572 - val_acc: 0.8000\n",
      "Epoch 48/50\n",
      "7/7 [==============================] - 7s 1s/step - loss: 1.9265e-04 - acc: 1.0000 - val_loss: 1.2778 - val_acc: 0.8000\n",
      "Epoch 49/50\n",
      "7/7 [==============================] - 7s 1s/step - loss: 1.8091e-04 - acc: 1.0000 - val_loss: 1.2899 - val_acc: 0.8000\n",
      "Epoch 50/50\n",
      "7/7 [==============================] - 7s 1s/step - loss: 1.7053e-04 - acc: 1.0000 - val_loss: 1.2933 - val_acc: 0.8000\n"
     ]
    },
    {
     "data": {
      "image/png": "[encoded data removed]",
      "text/plain": [
       "<Figure size 640x480 with 1 Axes>"
      ]
     },
     "metadata": {},
     "output_type": "display_data"
    }
   ],
   "source": [
    "import h5py\n",
    "model.compile(loss='categorical_crossentropy', optimizer='adam', metrics=['acc'])\n",
    "history = model.fit(x_train_split, y_train_split, validation_data=(x_valid_split, y_valid_split), epochs=50, batch_size=200)\n",
    "model.save_weights('CNN.h5')\n",
    "plt.plot(history.history['acc'])\n",
    "plt.plot(history.history['val_acc'])\n",
    "plt.legend(['training', 'validation'], loc = 'upper left')\n",
    "plt.show()"
   ]
  },
  {
   "cell_type": "code",
   "execution_count": 34,
   "metadata": {},
   "outputs": [
    {
     "name": "stdout",
     "output_type": "stream",
     "text": [
      "(300, 32, 32, 3)\n",
      "(300, 3)\n"
     ]
    }
   ],
   "source": [
    "x_test = x_test/255\n",
    "print(x_test.shape)\n",
    "print(y_test.shape)"
   ]
  },
  {
   "cell_type": "code",
   "execution_count": 41,
   "metadata": {},
   "outputs": [
    {
     "name": "stdout",
     "output_type": "stream",
     "text": [
      "10/10 [==============================] - 0s 40ms/step - loss: 1.2698 - acc: 0.8333\n",
      "Baseline Error: 16.67%\n"
     ]
    }
   ],
   "source": [
    "scores = model.evaluate(x_test, y_test)\n",
    "predictions = model.predict(x_test)\n",
    "\n",
    "print(\"Baseline Error: %.2f%%\" % (100-scores[1]*100))"
   ]
  }
 ],
 "metadata": {
  "kernelspec": {
   "display_name": "Python 3",
   "language": "python",
   "name": "python3"
  },
  "language_info": {
   "codemirror_mode": {
    "name": "ipython",
    "version": 3
   },
   "file_extension": ".py",
   "mimetype": "text/x-python",
   "name": "python",
   "nbconvert_exporter": "python",
   "pygments_lexer": "ipython3",
   "version": "3.11.2"
  }
 },
 "nbformat": 4,
 "nbformat_minor": 2
}
